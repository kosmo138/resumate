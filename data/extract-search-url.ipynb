{
 "cells": [
  {
   "cell_type": "code",
   "execution_count": 2,
   "metadata": {},
   "outputs": [
    {
     "name": "stdout",
     "output_type": "stream",
     "text": [
      "첫 번째 검색 결과 제목의 URL: https://www.lgcns.com/careers/who-we-are/\n"
     ]
    }
   ],
   "source": [
    "# 검색을 받아 첫번째 url주소를 추출\n",
    "from selenium import webdriver\n",
    "from selenium.webdriver.common.by import By\n",
    "from selenium.webdriver.support.ui import WebDriverWait\n",
    "from selenium.webdriver.support import expected_conditions as EC\n",
    "\n",
    "def get_first_search_result_url(query):\n",
    "    # 웹드라이버 초기화\n",
    "    driver = webdriver.Chrome()\n",
    "    \n",
    "    # Google 검색 페이지 열기\n",
    "    driver.get(f\"https://www.google.com/search?q={query}\")\n",
    "    \n",
    "    # 첫 번째 검색 결과 제목의 URL 가져오기\n",
    "    try:\n",
    "        first_title = WebDriverWait(driver, 10).until(\n",
    "            EC.presence_of_element_located((By.CSS_SELECTOR, 'h3.LC20lb.MBeuO.DKV0Md'))\n",
    "        )\n",
    "        url = first_title.find_element(By.XPATH, './parent::a').get_attribute('href')\n",
    "    except:\n",
    "        url = None\n",
    "    \n",
    "    # 웹드라이버 종료\n",
    "    driver.quit()\n",
    "    \n",
    "    return url\n",
    "\n",
    "query = input(\"검색어를 입력하세요: \")\n",
    "first_url = get_first_search_result_url(query)\n",
    "print(\"첫 번째 검색 결과 제목의 URL:\", first_url)\n"
   ]
  },
  {
   "cell_type": "code",
   "execution_count": 4,
   "metadata": {},
   "outputs": [
    {
     "name": "stdout",
     "output_type": "stream",
     "text": [
      "제목에 '인재상'을 포함한 첫 번째 URL: https://blog.naver.com/company_info/221150266904\n"
     ]
    }
   ],
   "source": [
    "from selenium import webdriver\n",
    "from selenium.webdriver.chrome.service import Service\n",
    "\n",
    "def get_first_search_result(query):\n",
    "    # Chrome WebDriver를 사용하여 브라우저를 엽니다.\n",
    "    service = Service('C:\\\\Users\\\\kosmo\\\\Desktop\\\\kosmo_baeksn\\\\project3\\\\resumate\\\\drivers\\\\chromedriver.exe')\n",
    "    service.start()\n",
    "    driver = webdriver.Chrome(service=service)\n",
    "\n",
    "    try:\n",
    "        # Google 검색 페이지를 엽니다.\n",
    "        driver.get(f\"https://www.google.com/search?q={query}\")\n",
    "\n",
    "        # 검색 결과의 제목 요소들을 찾습니다.\n",
    "        search_results = driver.find_elements(By.CSS_SELECTOR,'div.g')\n",
    "\n",
    "        # \"인재상\"이라는 단어를 포함하는 첫 번째 검색 결과의 링크를 가져옵니다.\n",
    "        for result in search_results:\n",
    "            title_element = result.find_element(By.CSS_SELECTOR, 'h3')\n",
    "            if \"인재상\" in title_element.text:\n",
    "                # 검색 결과의 링크를 가져옵니다.\n",
    "                link = result.find_element(By.CSS_SELECTOR,'a').get_attribute('href')\n",
    "                return link\n",
    "\n",
    "        return \"No search results containing '인재상' found.\"\n",
    "    finally:\n",
    "        # 브라우저를 닫습니다.\n",
    "        driver.quit()\n",
    "\n",
    "query = input(\"검색어를 입력하세요: \")\n",
    "link = get_first_search_result(query)\n",
    "\n",
    "# 검색 결과를 출력합니다.\n",
    "print(\"제목에 '인재상'을 포함한 첫 번째 URL:\", link)\n"
   ]
  }
 ],
 "metadata": {
  "kernelspec": {
   "display_name": ".venv",
   "language": "python",
   "name": "python3"
  },
  "language_info": {
   "codemirror_mode": {
    "name": "ipython",
    "version": 3
   },
   "file_extension": ".py",
   "mimetype": "text/x-python",
   "name": "python",
   "nbconvert_exporter": "python",
   "pygments_lexer": "ipython3",
   "version": "3.12.2"
  }
 },
 "nbformat": 4,
 "nbformat_minor": 2
}
