{
 "cells": [
  {
   "cell_type": "code",
   "execution_count": 8,
   "metadata": {},
   "outputs": [
    {
     "name": "stdout",
     "output_type": "stream",
     "text": [
      "인재상에 해당하는 키워드: {'소통'}\n"
     ]
    },
    {
     "data": {
      "text/html": [
       "<div>\n",
       "<style scoped>\n",
       "    .dataframe tbody tr th:only-of-type {\n",
       "        vertical-align: middle;\n",
       "    }\n",
       "\n",
       "    .dataframe tbody tr th {\n",
       "        vertical-align: top;\n",
       "    }\n",
       "\n",
       "    .dataframe thead th {\n",
       "        text-align: right;\n",
       "    }\n",
       "</style>\n",
       "<table border=\"1\" class=\"dataframe\">\n",
       "  <thead>\n",
       "    <tr style=\"text-align: right;\">\n",
       "      <th></th>\n",
       "      <th>인재상에 해당하는 키워드(중복제거)</th>\n",
       "    </tr>\n",
       "  </thead>\n",
       "  <tbody>\n",
       "    <tr>\n",
       "      <th>0</th>\n",
       "      <td>소통</td>\n",
       "    </tr>\n",
       "  </tbody>\n",
       "</table>\n",
       "</div>"
      ],
      "text/plain": [
       "  인재상에 해당하는 키워드(중복제거)\n",
       "0                  소통"
      ]
     },
     "execution_count": 8,
     "metadata": {},
     "output_type": "execute_result"
    }
   ],
   "source": [
    "from bs4 import BeautifulSoup\n",
    "import requests\n",
    "from konlpy.tag import Okt\n",
    "from gensim.models import Word2Vec\n",
    "import pandas as pd\n",
    "\n",
    "# HTML에서 텍스트 추출\n",
    "def extract_text_from_html(url):\n",
    "    response = requests.get(url)\n",
    "    soup = BeautifulSoup(response.text, \"html.parser\")\n",
    "    text = soup.get_text()\n",
    "    return text\n",
    "\n",
    "# 텍스트에서 명사 추출\n",
    "def extract_nouns(text):\n",
    "    okt = Okt()\n",
    "    nouns = okt.nouns(text)\n",
    "    return nouns\n",
    "\n",
    "# Word2Vec 모델 로드\n",
    "def load_word2vec_model(model_path):\n",
    "    model = Word2Vec.load(model_path)\n",
    "    return model\n",
    "\n",
    "# 인재상에 해당하는 키워드 추출\n",
    "def extract_related_keywords(nouns, model, target_words, threshold=0.8):\n",
    "    related_keywords = []\n",
    "    for word in target_words:\n",
    "        for noun in nouns:\n",
    "            try:\n",
    "                similarity = model.wv.similarity(noun, word)\n",
    "                if similarity >= threshold:\n",
    "                    related_keywords.append(noun)\n",
    "            except:\n",
    "                pass\n",
    "    return related_keywords\n",
    "\n",
    "# HTML에서 텍스트 추출\n",
    "url = \"https://www.skhynix.com/careers/UI-FR-CR01/\"\n",
    "html_text = extract_text_from_html(url)\n",
    "\n",
    "# 텍스트에서 명사 추출\n",
    "nouns = extract_nouns(html_text)\n",
    "\n",
    "# Word2Vec 모델 로드\n",
    "model_path = \"C:\\\\Users\\\\kosmo\\\\Desktop\\\\kosmo_baeksn\\\\project3\\\\resumate\\\\data\\\\wiki.model\"\n",
    "model = load_word2vec_model(model_path)\n",
    "\n",
    "# 인재상에 해당하는 키워드 리스트\n",
    "target_words = ['책임', '소통', '혁신']\n",
    "\n",
    "# 인재상에 해당하는 키워드 추출\n",
    "related_keywords = extract_related_keywords(nouns, model, target_words)\n",
    "\n",
    "unique_keywords = set(related_keywords)\n",
    "print(\"인재상에 해당하는 키워드:\", unique_keywords)\n",
    "\n",
    "df = pd.DataFrame({\"인재상에 해당하는 키워드(중복제거)\": list(unique_keywords)})\n",
    "df"
   ]
  }
 ],
 "metadata": {
  "kernelspec": {
   "display_name": ".venv",
   "language": "python",
   "name": "python3"
  },
  "language_info": {
   "codemirror_mode": {
    "name": "ipython",
    "version": 3
   },
   "file_extension": ".py",
   "mimetype": "text/x-python",
   "name": "python",
   "nbconvert_exporter": "python",
   "pygments_lexer": "ipython3",
   "version": "3.12.2"
  }
 },
 "nbformat": 4,
 "nbformat_minor": 2
}
