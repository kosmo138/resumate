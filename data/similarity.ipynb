{
 "cells": [
  {
   "cell_type": "code",
   "execution_count": 1,
   "metadata": {},
   "outputs": [
    {
     "name": "stdout",
     "output_type": "stream",
     "text": [
      "[('인력', 0.668494701385498), ('역량', 0.6672854423522949), ('혁신', 0.6356462836265564), ('선진', 0.6128489971160889), ('후학', 0.6024913787841797), ('陽城', 0.5781280398368835), ('전문가', 0.5744532942771912), ('로봇산업', 0.5725291967391968), ('교육', 0.571882963180542), ('중소기업', 0.5617941617965698), ('선비', 0.5600829720497131), ('兩性', 0.5586804747581482), ('강소기업', 0.557636559009552), ('경쟁력', 0.5571384429931641), ('공정사회', 0.5522477626800537), ('과학기술', 0.5503398776054382), ('성장동력', 0.5501621961593628), ('학문', 0.5494115948677063), ('전문성', 0.5482497811317444), ('농업인', 0.5460780262947083), ('사류', 0.5396226048469543), ('신진', 0.5360997319221497), ('경영인', 0.533088207244873), ('스타트업', 0.5304900407791138), ('노하우', 0.5282230377197266), ('육성', 0.5278189778327942), ('穰城', 0.5270874500274658), ('사교육', 0.52546626329422), ('민생', 0.524147093296051), ('기술', 0.5208512544631958), ('인맥', 0.5184401869773865), ('선도', 0.5171726942062378), ('국민', 0.5156108736991882), ('시민사회', 0.5155691504478455), ('의료', 0.5150498747825623), ('지식인', 0.5148234367370605), ('ICT', 0.5141540765762329), ('양성', 0.5121725797653198), ('차세대', 0.5117954611778259), ('리더십', 0.5106784701347351), ('창조경제', 0.509851336479187), ('일자리', 0.5090906620025635), ('梁聖奉', 0.5086413025856018), ('서민', 0.5079099535942078), ('신지식', 0.5065158009529114), ('정책', 0.506467342376709), ('정보화', 0.5041089653968811), ('성공사례', 0.5036985874176025), ('국가경쟁력', 0.5033801198005676), ('중화학공업', 0.5028045177459717)]\n"
     ]
    }
   ],
   "source": [
    "from gensim.models import Word2Vec\n",
    "\n",
    "# 모델 파일 로드\n",
    "model = Word2Vec.load(\"wiki.model\")\n",
    "\n",
    "# 유사한 단어 찾기\n",
    "similar_words = model.wv.most_similar(\"인재\", topn=50)\n",
    "print(similar_words)"
   ]
  },
  {
   "cell_type": "code",
   "execution_count": 6,
   "metadata": {},
   "outputs": [
    {
     "data": {
      "text/plain": [
       "0.58176893"
      ]
     },
     "execution_count": 6,
     "metadata": {},
     "output_type": "execute_result"
    }
   ],
   "source": [
    "#model.wv.similarity(\"\", \"\")"
   ]
  },
  {
   "cell_type": "code",
   "execution_count": 3,
   "metadata": {},
   "outputs": [],
   "source": [
    "from gensim.models import Word2Vec\n",
    "\n",
    "model = Word2Vec.load(\"wiki.model\")\n",
    "input_words = [\"미세먼지\", \"라면\", \"컴퓨터\", \"초콜릿\", \"커피\", \"젤리\", \"사탕\"]\n",
    "compare_words = [\"간식\", \"설탕\", \"탄산음료\"]\n",
    "\n",
    "#리스트 컴프리헨션을 사용하여 각 단어 쌍에 대한 코사인 유사도를 계산\n",
    "cosine_distance = [\n",
    "    f\"{word} - {compare_word} : {model.wv.similarity(word, compare_word)}\"\n",
    "    for word in input_words\n",
    "    for compare_word in compare_words\n",
    "]"
   ]
  },
  {
   "cell_type": "code",
   "execution_count": 4,
   "metadata": {},
   "outputs": [
    {
     "data": {
      "text/plain": [
       "[('초콜릿', '탄산음료'), ('커피', '간식'), ('커피', '설탕'), ('커피', '탄산음료'), ('사탕', '간식')]"
      ]
     },
     "execution_count": 4,
     "metadata": {},
     "output_type": "execute_result"
    }
   ],
   "source": [
    "#코사인 유사도가 0.7 이상인 쌍을 찾고 그에 해당하는 input_word와 compare_word를 추출\n",
    "threshold = 0.7\n",
    "similar_pairs = [\n",
    "    (input_word, compare_word)\n",
    "    for input_word in input_words\n",
    "    for compare_word in compare_words\n",
    "    if model.wv.similarity(input_word, compare_word) >= threshold\n",
    "]\n",
    "similar_pairs"
   ]
  }
 ],
 "metadata": {
  "kernelspec": {
   "display_name": ".venv",
   "language": "python",
   "name": "python3"
  },
  "language_info": {
   "codemirror_mode": {
    "name": "ipython",
    "version": 3
   },
   "file_extension": ".py",
   "mimetype": "text/x-python",
   "name": "python",
   "nbconvert_exporter": "python",
   "pygments_lexer": "ipython3",
   "version": "3.12.2"
  }
 },
 "nbformat": 4,
 "nbformat_minor": 2
}
